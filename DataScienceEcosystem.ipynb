{
  "nbformat": 4,
  "nbformat_minor": 0,
  "metadata": {
    "colab": {
      "provenance": []
    },
    "kernelspec": {
      "name": "python3",
      "display_name": "Python 3"
    },
    "language_info": {
      "name": "python"
    }
  },
  "cells": [
    {
      "cell_type": "markdown",
      "source": [
        "# Data Science Tools and Ecosystem"
      ],
      "metadata": {
        "id": "eB9DhMU35Wnj"
      }
    },
    {
      "cell_type": "markdown",
      "source": [
        "This notebook is a simple representation of some data science tools and the ecosystems they are found in."
      ],
      "metadata": {
        "id": "sVKvKqPa59eS"
      }
    },
    {
      "cell_type": "markdown",
      "source": [
        "**Objectives**: -List popular languages for Data Science\n",
        "                -List popular libraries in Python\n",
        "                -Create a table using Markdown of some common open source ide's"
      ],
      "metadata": {
        "id": "Rbf0vMd1uwdY"
      }
    },
    {
      "cell_type": "markdown",
      "source": [
        "Some popular languages that data scientist use include: 1. Python, 2. R, and 3. Java."
      ],
      "metadata": {
        "id": "K-RG1y9VpdN-"
      }
    },
    {
      "cell_type": "markdown",
      "source": [
        "Some common libraries Data Scientist use include: 1.Numpy, 2. Pandas, 3. MatPlot, 4.Seaborn, 5. Sci-kit Learn."
      ],
      "metadata": {
        "id": "Q8W0DBb5qBXb"
      }
    },
    {
      "cell_type": "markdown",
      "source": [
        "|Data Science Tools|\n",
        "|------------------|\n",
        "|Jupyter NoteBooks |\n",
        "|Spyder            |\n",
        "|Google Colab      |\n",
        "|Visual Studio Pro |"
      ],
      "metadata": {
        "id": "PEg6y-HTq_8u"
      }
    },
    {
      "cell_type": "markdown",
      "source": [
        "###Below are a few examples of evaluating arithmetic expressions in Python."
      ],
      "metadata": {
        "id": "M5LJZ_bAsgLT"
      }
    },
    {
      "cell_type": "code",
      "source": [
        "#This is a simple arithmetic operation where the expression requires multiplication then addition.\n",
        "x = (3*4)+5\n",
        "print(x)"
      ],
      "metadata": {
        "colab": {
          "base_uri": "https://localhost:8080/"
        },
        "id": "SgK4FiQWsq29",
        "outputId": "ef5b7b49-e09a-4b5d-9492-a199e19b4855"
      },
      "execution_count": 1,
      "outputs": [
        {
          "output_type": "stream",
          "name": "stdout",
          "text": [
            "17\n"
          ]
        }
      ]
    },
    {
      "cell_type": "code",
      "source": [
        "#This is a simple algorithm to convert minutes to hours by dividing minutes by 60 minutes to get hours.\n",
        "x = 200\n",
        "print(x/60, \"hours\")"
      ],
      "metadata": {
        "id": "J27b5t7D6G2u",
        "colab": {
          "base_uri": "https://localhost:8080/"
        },
        "outputId": "b02324d9-208e-45f3-fa23-c5fbfcaf8841"
      },
      "execution_count": 3,
      "outputs": [
        {
          "output_type": "stream",
          "name": "stdout",
          "text": [
            "3.3333333333333335 hours\n"
          ]
        }
      ]
    },
    {
      "cell_type": "markdown",
      "source": [
        "##Author:\n",
        "Amer Elsaad"
      ],
      "metadata": {
        "id": "-UQ-q1EKwV4g"
      }
    }
  ]
}